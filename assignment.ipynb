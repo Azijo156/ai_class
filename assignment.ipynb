{
 "cells": [
  {
   "cell_type": "code",
   "execution_count": 7,
   "id": "ee38b2eb-a03b-44b7-949b-76f05873f4a7",
   "metadata": {},
   "outputs": [
    {
     "name": "stdout",
     "output_type": "stream",
     "text": [
      "URL 1: https://i.natgeofe.com/n/548467d8-c5f1-4551-9f58-6817a8d2c45e/NationalGeographic_2572187_2x3.jpg\n",
      "URL 2: https://upload.wikimedia.org/wikipedia/commons/thumb/4/4d/Cat_November_2010-1a.jpg/1200px-Cat_November_2010-1a.jpg\n",
      "URL 3: https://i.natgeofe.com/n/4cebbf38-5df4-4ed0-864a-4ebeb64d33a4/NationalGeographic_1468962_square.jpg\n",
      "image 4 error \n",
      "URL 5: https://th-thumbnailer.cdn-si-edu.com/ii_ZQzqzZgBKT6z9DVNhfPhZe5g=/fit-in/1600x0/filters:focal(1061x707:1062x708)/https://tf-cmsv2-smithsonianmag-media.s3.amazonaws.com/filer_public/55/95/55958815-3a8a-4032-ac7a-ff8c8ec8898a/gettyimages-1067956982.jpg\n",
      "URL 6: https://cdn.britannica.com/70/234870-050-D4D024BB/Orange-colored-cat-yawns-displaying-teeth.jpg\n",
      "URL 7: https://i.natgeofe.com/n/548467d8-c5f1-4551-9f58-6817a8d2c45e/NationalGeographic_2572187_2x1.jpg\n",
      "URL 8: https://images.squarespace-cdn.com/content/v1/607f89e638219e13eee71b1e/1684821560422-SD5V37BAG28BURTLIXUQ/michael-sum-LEpfefQf4rU-unsplash.jpg\n",
      "URL 9: https://cdn.britannica.com/39/226539-050-D21D7721/Portrait-of-a-cat-with-whiskers-visible.jpg\n",
      "URL 10: https://upload.wikimedia.org/wikipedia/commons/thumb/1/15/Cat_August_2010-4.jpg/1200px-Cat_August_2010-4.jpg\n",
      "URL 11: https://media.4-paws.org/d/2/5/f/d25ff020556e4b5eae747c55576f3b50886c0b90/cut%20cat%20serhio%2002-1813x1811-720x719.jpg\n",
      "URL 12: https://www.alleycat.org/wp-content/uploads/2019/03/FELV-cat.jpg\n",
      "URL 13: https://cdn.britannica.com/34/235834-050-C5843610/two-different-breeds-of-cats-side-by-side-outdoors-in-the-garden.jpg\n",
      "URL 14: https://upload.wikimedia.org/wikipedia/commons/thumb/3/3a/Cat03.jpg/1200px-Cat03.jpg\n",
      "URL 15: https://media.npr.org/assets/img/2023/12/12/gettyimages-1054147940-627235e01fb63b4644bec84204c259f0a343e35b.jpg?s=1100&c=85&f=jpeg\n"
     ]
    }
   ],
   "source": [
    "from selenium import webdriver\n",
    "from selenium.webdriver.common.by import By\n",
    "from selenium.webdriver.common.keys import Keys\n",
    "import time\n",
    "\n",
    "# Run Chrome Driver\n",
    "driver = webdriver.Chrome()\n",
    "\n",
    "# Open Google Images\n",
    "driver.get(\"https://www.google.co.kr/imghp?hl=en&ogbl\")\n",
    "\n",
    "# Find the search box \n",
    "search_box = driver.find_element(By.NAME, 'q')\n",
    "# Enter text into the search box\n",
    "search_box.send_keys(\"cat\")   \n",
    "# Run search\n",
    "search_box.send_keys(Keys.RETURN) \n",
    "\n",
    "# Wait for results\n",
    "time.sleep(2)\n",
    "\n",
    "# Save URLs in image_urls.txt\n",
    "with open('image_urls.txt', 'w') as file:\n",
    "    for i in range(15):\n",
    "        try:\n",
    "            input_element = driver.find_elements(By.CSS_SELECTOR, \".F0uyec\")[i]  # Get small image box\n",
    "            driver.execute_script(\"arguments[0].click();\", input_element)  # Click the small image\n",
    "            time.sleep(2)\n",
    "            \n",
    "            # Get large image\n",
    "            large_image = driver.find_element(By.CSS_SELECTOR, 'img.sFlh5c.FyHeAf.iPVvYb')\n",
    "            url = large_image.get_attribute(\"src\")\n",
    "            \n",
    "            if url:\n",
    "                print(f\"URL {i + 1}: {url}\")\n",
    "                file.write(url + '\\n')  # Save URL to file\n",
    "            else:\n",
    "                print(f\"image {i + 1}: no image.\")\n",
    "                \n",
    "        except Exception as e:\n",
    "            print(f\"image {i + 1} error \")\n",
    "            continue  \n",
    "\n",
    "driver.quit()\n"
   ]
  },
  {
   "cell_type": "code",
   "execution_count": 8,
   "id": "8164d05a-570e-4a79-8641-8ff459a31f78",
   "metadata": {},
   "outputs": [
    {
     "name": "stdout",
     "output_type": "stream",
     "text": [
      "saved : downloaded_images\\image_1.jpg\n",
      "saved : downloaded_images\\image_2.jpg\n",
      "saved : downloaded_images\\image_3.jpg\n",
      "saved : downloaded_images\\image_4.jpg\n",
      "saved : downloaded_images\\image_5.jpg\n",
      "saved : downloaded_images\\image_6.jpg\n",
      "saved : downloaded_images\\image_7.jpg\n",
      "saved : downloaded_images\\image_8.jpg\n",
      "saved : downloaded_images\\image_9.jpg\n",
      "saved : downloaded_images\\image_10.jpg\n",
      "saved : downloaded_images\\image_11.jpg\n",
      "saved : downloaded_images\\image_12.jpg\n",
      "saved : downloaded_images\\image_13.jpg\n",
      "saved : downloaded_images\\image_14.jpg\n"
     ]
    }
   ],
   "source": [
    "import os, time, requests\n",
    "\n",
    "os.makedirs(\"downloaded_images\", exist_ok=True)\n",
    "\n",
    "with open('image_urls.txt', 'r') as file:\n",
    "    urls = file.readlines()\n",
    "\n",
    "index = 0\n",
    "for url in urls:\n",
    "    url = url.strip() \n",
    "    response = requests.get(url, stream=True)\n",
    "    if response.status_code == 200:\n",
    "        file_path = os.path.join(\"downloaded_images\", f\"image_{index + 1}.jpg\")\n",
    "        with open(file_path, 'wb') as image_file:\n",
    "            for chunk in response.iter_content(1024):\n",
    "                image_file.write(chunk)\n",
    "        print(f\"saved : {file_path}\")\n",
    "        index = index + 1\n",
    "    else:\n",
    "        print(f\"failed : {url}\")"
   ]
  },
  {
   "cell_type": "code",
   "execution_count": null,
   "id": "4e69c518-8d48-477c-b4ee-dd162209577e",
   "metadata": {},
   "outputs": [],
   "source": []
  }
 ],
 "metadata": {
  "kernelspec": {
   "display_name": "Python 3 (ipykernel)",
   "language": "python",
   "name": "python3"
  },
  "language_info": {
   "codemirror_mode": {
    "name": "ipython",
    "version": 3
   },
   "file_extension": ".py",
   "mimetype": "text/x-python",
   "name": "python",
   "nbconvert_exporter": "python",
   "pygments_lexer": "ipython3",
   "version": "3.12.4"
  }
 },
 "nbformat": 4,
 "nbformat_minor": 5
}
